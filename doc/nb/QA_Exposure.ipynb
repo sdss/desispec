{
 "cells": [
  {
   "cell_type": "markdown",
   "metadata": {},
   "source": [
    "# QA for an Exposures (v1.3)\n",
    "    v1.2 -- Fuss with table() method\n",
    "    v1.3 -- Add coeffs"
   ]
  },
  {
   "cell_type": "code",
   "execution_count": 1,
   "metadata": {},
   "outputs": [],
   "source": [
    "# imports\n",
    "from importlib import reload\n",
    "\n",
    "import time\n",
    "\n",
    "from desispec.qa import qa_exposure as dqaexp"
   ]
  },
  {
   "cell_type": "markdown",
   "metadata": {},
   "source": [
    "## Load"
   ]
  },
  {
   "cell_type": "code",
   "execution_count": 2,
   "metadata": {},
   "outputs": [],
   "source": [
    "expid = 23\n",
    "night = '20200323'\n",
    "specprod_dir = '/home/xavier/DESI/DESI_SCRATCH/18.11/spectro/redux/mini/'\n",
    "multi_root = 'mini_qa'"
   ]
  },
  {
   "cell_type": "code",
   "execution_count": 15,
   "metadata": {},
   "outputs": [
    {
     "name": "stdout",
     "output_type": "stream",
     "text": [
      "INFO:qa.py:220:load_qa_multiexp: Loading QA prod file: /home/xavier/DESI/DESI_SCRATCH/18.11/spectro/redux/mini/QA/mini_qa.json\n"
     ]
    }
   ],
   "source": [
    "# Load data\n",
    "reload(dqaexp)\n",
    "qaexp = dqaexp.QA_Exposure(expid, night, 'science', specprod_dir=specprod_dir, multi_root=multi_root)"
   ]
  },
  {
   "cell_type": "code",
   "execution_count": 16,
   "metadata": {},
   "outputs": [
    {
     "data": {
      "text/plain": [
       "{'METRICS': {'MAX_ZP_OFF': [0.0, 40],\n",
       "  'NSTARS_FIBER': 10,\n",
       "  'RMS_ZP': 0.0,\n",
       "  'ZP': 17.603189791244063},\n",
       " 'PARAMS': {'MAX_ZP_OFF': 0.2, 'ZP_WAVE': 4800.0}}"
      ]
     },
     "execution_count": 16,
     "metadata": {},
     "output_type": "execute_result"
    }
   ],
   "source": [
    "qaexp.data['frames']['b1']['FLUXCALIB']"
   ]
  },
  {
   "cell_type": "markdown",
   "metadata": {},
   "source": [
    "## Table me"
   ]
  },
  {
   "cell_type": "code",
   "execution_count": 17,
   "metadata": {},
   "outputs": [
    {
     "data": {
      "text/plain": [
       "0.14874505996704102"
      ]
     },
     "execution_count": 17,
     "metadata": {},
     "output_type": "execute_result"
    }
   ],
   "source": [
    "tstart = time.time()\n",
    "qaexp.s2n_table()\n",
    "tend = time.time()\n",
    "tend-tstart"
   ]
  },
  {
   "cell_type": "code",
   "execution_count": 18,
   "metadata": {},
   "outputs": [
    {
     "data": {
      "text/html": [
       "<i>Table length=10</i>\n",
       "<table id=\"table140495369553400\" class=\"table-striped table-bordered table-condensed\">\n",
       "<thead><tr><th>MEDIAN_SNR</th><th>FIBER</th><th>CAMERA</th><th>NIGHT</th><th>EXPID</th><th>CHANNEL</th><th>MAGS</th><th>RESID</th><th>OBJTYPE</th><th>COEFFS [2]</th></tr></thead>\n",
       "<thead><tr><th>float64</th><th>int64</th><th>str2</th><th>str8</th><th>int64</th><th>str1</th><th>float64</th><th>float64</th><th>str4</th><th>float64</th></tr></thead>\n",
       "<tr><td>0.20216157315077532</td><td>0</td><td>z1</td><td>20200323</td><td>23</td><td>z</td><td>22.72106170654297</td><td>0.08267254502423291</td><td>ELG</td><td>0.01 .. 2.1</td></tr>\n",
       "<tr><td>0.4851868239347685</td><td>1</td><td>z1</td><td>20200323</td><td>23</td><td>z</td><td>21.795635223388672</td><td>0.11087270982658509</td><td>ELG</td><td>0.01 .. 2.1</td></tr>\n",
       "<tr><td>0.34923409294003344</td><td>2</td><td>z1</td><td>20200323</td><td>23</td><td>z</td><td>21.974483489990234</td><td>-0.05786463842179481</td><td>ELG</td><td>0.01 .. 2.1</td></tr>\n",
       "<tr><td>0.44729027122753406</td><td>3</td><td>z1</td><td>20200323</td><td>23</td><td>z</td><td>21.6116943359375</td><td>-0.13477311037700476</td><td>ELG</td><td>0.01 .. 2.1</td></tr>\n",
       "<tr><td>4.113991233202288</td><td>4</td><td>z1</td><td>20200323</td><td>23</td><td>z</td><td>18.745939254760742</td><td>0.0032413979384317768</td><td>LRG</td><td>0.01 .. 6.300000000000001</td></tr>\n",
       "<tr><td>-0.0009607935137527366</td><td>5</td><td>z1</td><td>20200323</td><td>23</td><td>z</td><td>0.0</td><td>-999.0</td><td></td><td>0.0 .. 0.0</td></tr>\n",
       "<tr><td>0.29222053844751944</td><td>6</td><td>z1</td><td>20200323</td><td>23</td><td>z</td><td>22.14106559753418</td><td>-0.08144893604033841</td><td>ELG</td><td>0.01 .. 2.1</td></tr>\n",
       "<tr><td>2.040580780938894</td><td>7</td><td>z1</td><td>20200323</td><td>23</td><td>z</td><td>19.528453826904297</td><td>0.010381037233789657</td><td>LRG</td><td>0.01 .. 6.300000000000001</td></tr>\n",
       "<tr><td>1.2888812230052453</td><td>8</td><td>z1</td><td>20200323</td><td>23</td><td>z</td><td>19.8674373626709</td><td>-0.13075888135649236</td><td>LRG</td><td>0.01 .. 6.300000000000001</td></tr>\n",
       "<tr><td>0.21598083756713454</td><td>9</td><td>z1</td><td>20200323</td><td>23</td><td>z</td><td>22.752859115600586</td><td>0.19099090924752737</td><td>ELG</td><td>0.01 .. 2.1</td></tr>\n",
       "</table>"
      ],
      "text/plain": [
       "<Table length=10>\n",
       "      MEDIAN_SNR       FIBER CAMERA ... OBJTYPE         COEFFS [2]       \n",
       "       float64         int64  str2  ...   str4           float64         \n",
       "---------------------- ----- ------ ... ------- -------------------------\n",
       "   0.20216157315077532     0     z1 ...     ELG               0.01 .. 2.1\n",
       "    0.4851868239347685     1     z1 ...     ELG               0.01 .. 2.1\n",
       "   0.34923409294003344     2     z1 ...     ELG               0.01 .. 2.1\n",
       "   0.44729027122753406     3     z1 ...     ELG               0.01 .. 2.1\n",
       "     4.113991233202288     4     z1 ...     LRG 0.01 .. 6.300000000000001\n",
       "-0.0009607935137527366     5     z1 ...                        0.0 .. 0.0\n",
       "   0.29222053844751944     6     z1 ...     ELG               0.01 .. 2.1\n",
       "     2.040580780938894     7     z1 ...     LRG 0.01 .. 6.300000000000001\n",
       "    1.2888812230052453     8     z1 ...     LRG 0.01 .. 6.300000000000001\n",
       "   0.21598083756713454     9     z1 ...     ELG               0.01 .. 2.1"
      ]
     },
     "execution_count": 18,
     "metadata": {},
     "output_type": "execute_result"
    }
   ],
   "source": [
    "qaexp.qa_s2n[0:10]"
   ]
  },
  {
   "cell_type": "code",
   "execution_count": 16,
   "metadata": {},
   "outputs": [
    {
     "data": {
      "text/plain": [
       "{'AIRMASS': 1.084055919995993,\n",
       " 'DATE-OBS': '2020-03-24T04:11:21.522',\n",
       " 'EXPTIME': 1104.473903438055,\n",
       " 'FLAVOR': 'science',\n",
       " 'NIGHT': '20200323'}"
      ]
     },
     "execution_count": 16,
     "metadata": {},
     "output_type": "execute_result"
    }
   ],
   "source": [
    "qaexp.qa_s2n.meta"
   ]
  },
  {
   "cell_type": "markdown",
   "metadata": {},
   "source": [
    "## FluxCalib QA"
   ]
  },
  {
   "cell_type": "code",
   "execution_count": 7,
   "metadata": {},
   "outputs": [
    {
     "name": "stdout",
     "output_type": "stream",
     "text": [
      "Wrote QA FluxCalib Exposure file: qa-00000006-flux.pdf\n"
     ]
    }
   ],
   "source": [
    "outfil = 'qa-00000006-flux.pdf'\n",
    "qaexp.fluxcalib(outfil)"
   ]
  },
  {
   "cell_type": "code",
   "execution_count": null,
   "metadata": {},
   "outputs": [],
   "source": []
  }
 ],
 "metadata": {
  "kernelspec": {
   "display_name": "Python 3",
   "language": "python",
   "name": "python3"
  },
  "language_info": {
   "codemirror_mode": {
    "name": "ipython",
    "version": 3
   },
   "file_extension": ".py",
   "mimetype": "text/x-python",
   "name": "python",
   "nbconvert_exporter": "python",
   "pygments_lexer": "ipython3",
   "version": "3.6.3"
  }
 },
 "nbformat": 4,
 "nbformat_minor": 1
}
